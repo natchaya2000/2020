{
 "cells": [
  {
   "cell_type": "code",
   "execution_count": 1,
   "metadata": {},
   "outputs": [
    {
     "data": {
      "text/plain": [
       "[<matplotlib.lines.Line2D at 0x7f13d4b37c88>]"
      ]
     },
     "execution_count": 1,
     "metadata": {},
     "output_type": "execute_result"
    },
    {
     "data": {
      "image/png": "[encoded data removed]",
      "text/plain": [
       "<Figure size 432x288 with 1 Axes>"
      ]
     },
     "metadata": {
      "needs_background": "light"
     },
     "output_type": "display_data"
    }
   ],
   "source": [
    "%matplotlib inline\n",
    "import numpy as np\n",
    "import matplotlib.cm as cm\n",
    "from matplotlib import pyplot as plt\n",
    "#plt.style.use('ggplot')\n",
    "N=200\n",
    "x=[]\n",
    "yt=[]\n",
    "for i in range(N//4):\n",
    "    x.append( [0+np.random.rand(), 0+np.random.rand()])\n",
    "    x.append( [-1+np.random.rand(), -1+np.random.rand()])\n",
    "    yt.append([0 , 1])\n",
    "    yt.append([0 , 1])\n",
    "\n",
    "for i in range(N//4):\n",
    "    x.append( [0+np.random.rand(), -1+np.random.rand()])\n",
    "    x.append( [-1+np.random.rand(), 0+np.random.rand()])\n",
    "    yt.append([1 , 0])\n",
    "    yt.append([1 , 0])\n",
    "    \n",
    "x=np.array(x)\n",
    "yt=np.array(yt)\n",
    "\n",
    "plt.plot( x[yt[:,1]==1,0], x[yt[:,1]==1,1], 'ob')\n",
    "plt.plot( x[yt[:,0]==1,0], x[yt[:,0]==1,1], 'or')"
   ]
  },
  {
   "cell_type": "markdown",
   "metadata": {},
   "source": [
    "<img src=\"decision_tree.png\">"
   ]
  },
  {
   "cell_type": "code",
   "execution_count": 2,
   "metadata": {},
   "outputs": [],
   "source": [
    "def gini_l(x,yt,dim,t):\n",
    "    L=x[:,dim]<t\n",
    "    yt[L]\n",
    "    p=np.sum(yt[L],axis=0)/(np.sum(yt[L])+00.1)\n",
    "    return 1-np.sum(p*p)\n",
    "\n",
    "def gini_r(x,yt,dim,t):\n",
    "    R=x[:,dim]>=t\n",
    "    yt[R]\n",
    "    p=np.sum(yt[R],axis=0)/(np.sum(yt[R])+00.1)\n",
    "    return 1-np.sum(p*p)\n",
    "\n",
    "def gini(y):\n",
    "    p=np.sum(y,axis=0)/(np.sum(y)+1e-3)\n",
    "    return 1-np.sum(p*p)\n",
    "\n",
    "class Node(object):\n",
    "    def __init__(self,x,y, min_size=2,depth=0,side='_'):\n",
    "        self.x=x\n",
    "        self.y=y\n",
    "        self.depth=depth\n",
    "        self.side=side\n",
    "        self.score=gini(self.y)\n",
    "        self.n=self.x.shape[0]\n",
    "        self.min_size=min_size\n",
    "    \n",
    "    def find_threshold(self, dim):\n",
    "        n=self.n\n",
    "        #print('n: ',n)\n",
    "        gains=np.zeros(n)\n",
    "        for i in range(n):\n",
    "            th=self.x[i,dim]\n",
    "            L=self.x[:,dim]<th\n",
    "            R= ~L\n",
    "            new_gini=np.sum(L)/n*gini(self.y[L])+np.sum(R)/n*gini(self.y[R])\n",
    "            gain=self.score-new_gini\n",
    "            gains[i]=gain\n",
    "            #print('i:%s dim:%s th:%s score:%.3f new_gini:%.3f'%(i,dim,th,self.score,new_gini))\n",
    "        #print('gains: ',gains)\n",
    "        ix=np.argmax(gains)\n",
    "        #print('ix',ix)\n",
    "        score=gains[ix]\n",
    "        threshold=self.x[ix,dim]\n",
    "        #print('dim:%s threshold:%.3f score:%.3f'%(dim,threshold,gains[ix]))\n",
    "        return threshold,score,gains\n",
    "    \n",
    "    def split(self, dim, threshold):\n",
    "        L=self.x[:,dim]<threshold\n",
    "        R=self.x[:,dim]>=threshold\n",
    "        self.L=Node(self.x[L,:],self.y[L,:] , depth=self.depth+1,side='L')\n",
    "        self.R=Node(self.x[R,:],self.y[R,:] , depth=self.depth+1,side='R')\n",
    "        \n",
    "    def fit(self):\n",
    "        #print('%s depth:%s size:%s'%(self.side, self.depth, self.n))\n",
    "        dim=np.random.randint(self.x.shape[1])\n",
    "        threshold,score,_=self.find_threshold(dim)\n",
    "        self.dim=dim\n",
    "        self.threshold=threshold\n",
    "        self.score=score\n",
    "        self.p=np.sum(self.y,axis=0)#/(np.sum(self.y))\n",
    "        print(self)\n",
    "        if self.n<=self.min_size:\n",
    "            print('----min size')\n",
    "        elif score<1e-3:\n",
    "            print('----no improve')\n",
    "        else:\n",
    "            self.split(dim,threshold)\n",
    "            self.L.fit()\n",
    "            self.R.fit()\n",
    "    \n",
    "    def __str__(self):\n",
    "        return '%s depth:%s dim:%s size:%s threshold:%.3f score:%.3f p:%s'\\\n",
    "            %(self.side, self.depth, self.dim, self.n,self.threshold, self.score, self.p)\n",
    "    \n",
    "    def predict(self,x):\n",
    "        #print(self)\n",
    "        if not hasattr(self, 'L'):\n",
    "            return self.p\n",
    "        if x[0,self.dim]<self.threshold:\n",
    "            pout=self.L.predict(x)\n",
    "        else:\n",
    "            pout=self.R.predict(x)\n",
    "        return pout"
   ]
  },
  {
   "cell_type": "code",
   "execution_count": 3,
   "metadata": {},
   "outputs": [
    {
     "name": "stdout",
     "output_type": "stream",
     "text": [
      "_ depth:0 dim:0 size:200 threshold:0.949 score:0.005 p:[100 100]\n",
      "L depth:1 dim:1 size:198 threshold:0.882 score:0.012 p:[ 98 100]\n",
      "L depth:2 dim:0 size:184 threshold:0.466 score:0.011 p:[95 89]\n",
      "L depth:3 dim:1 size:134 threshold:-0.009 score:0.108 p:[63 71]\n",
      "L depth:4 dim:1 size:65 threshold:-0.822 score:0.020 p:[15 50]\n",
      "L depth:5 dim:1 size:8 threshold:-0.882 score:0.300 p:[4 4]\n",
      "L depth:6 dim:0 size:5 threshold:0.117 score:0.319 p:[1 4]\n",
      "L depth:7 dim:0 size:4 threshold:-0.856 score:0.000 p:[0 4]\n",
      "----no improve\n",
      "R depth:7 dim:1 size:1 threshold:-0.935 score:0.000 p:[1 0]\n",
      "----min size\n",
      "R depth:6 dim:1 size:3 threshold:-0.882 score:0.000 p:[3 0]\n",
      "----no improve\n",
      "R depth:5 dim:0 size:57 threshold:0.034 score:0.311 p:[11 46]\n",
      "L depth:6 dim:1 size:46 threshold:-0.822 score:0.000 p:[ 0 46]\n",
      "----no improve\n",
      "R depth:6 dim:1 size:11 threshold:-0.759 score:0.000 p:[11  0]\n",
      "----no improve\n",
      "R depth:4 dim:1 size:69 threshold:0.156 score:0.028 p:[48 21]\n",
      "L depth:5 dim:0 size:9 threshold:-0.952 score:0.000 p:[9 0]\n",
      "----no improve\n",
      "R depth:5 dim:0 size:60 threshold:0.016 score:0.455 p:[39 21]\n",
      "L depth:6 dim:1 size:39 threshold:0.194 score:0.000 p:[39  0]\n",
      "----no improve\n",
      "R depth:6 dim:1 size:21 threshold:0.156 score:0.000 p:[ 0 21]\n",
      "----no improve\n",
      "R depth:3 dim:1 size:50 threshold:0.005 score:0.461 p:[32 18]\n",
      "L depth:4 dim:1 size:32 threshold:-0.931 score:0.000 p:[32  0]\n",
      "----no improve\n",
      "R depth:4 dim:1 size:18 threshold:0.005 score:0.000 p:[ 0 18]\n",
      "----no improve\n",
      "R depth:2 dim:1 size:14 threshold:0.898 score:0.037 p:[ 3 11]\n",
      "L depth:3 dim:0 size:4 threshold:0.282 score:0.000 p:[0 4]\n",
      "----no improve\n",
      "R depth:3 dim:1 size:10 threshold:0.931 score:0.115 p:[3 7]\n",
      "L depth:4 dim:1 size:3 threshold:0.908 score:0.110 p:[2 1]\n",
      "L depth:5 dim:1 size:1 threshold:0.898 score:0.000 p:[1 0]\n",
      "----min size\n",
      "R depth:5 dim:0 size:2 threshold:0.687 score:0.499 p:[1 1]\n",
      "----min size\n",
      "R depth:4 dim:0 size:7 threshold:0.062 score:0.245 p:[1 6]\n",
      "L depth:5 dim:1 size:1 threshold:0.969 score:0.000 p:[1 0]\n",
      "----min size\n",
      "R depth:5 dim:0 size:6 threshold:0.062 score:0.000 p:[0 6]\n",
      "----no improve\n",
      "R depth:1 dim:1 size:2 threshold:-0.545 score:0.000 p:[2 0]\n",
      "----min size\n"
     ]
    }
   ],
   "source": [
    "root=Node(x,yt,min_size=10)\n",
    "root.fit()"
   ]
  },
  {
   "cell_type": "code",
   "execution_count": 4,
   "metadata": {},
   "outputs": [
    {
     "data": {
      "text/plain": [
       "array([ 0, 18])"
      ]
     },
     "execution_count": 4,
     "metadata": {},
     "output_type": "execute_result"
    }
   ],
   "source": [
    "root.predict(np.array([[0.5,0.5]]))"
   ]
  },
  {
   "cell_type": "code",
   "execution_count": 6,
   "metadata": {},
   "outputs": [
    {
     "data": {
      "text/plain": [
       "[<matplotlib.lines.Line2D at 0x7f139f531550>]"
      ]
     },
     "execution_count": 6,
     "metadata": {},
     "output_type": "execute_result"
    },
    {
     "data": {
      "image/png": "[encoded data removed]",
      "text/plain": [
       "<Figure size 576x360 with 2 Axes>"
      ]
     },
     "metadata": {
      "needs_background": "light"
     },
     "output_type": "display_data"
    }
   ],
   "source": [
    "my,mx=np.mgrid[slice(-1,1.1,0.1),slice(-1,1.1,0.1)]\n",
    "out=np.zeros(mx.shape)\n",
    "for i in range(mx.shape[0]):\n",
    "    for j in range(mx.shape[1]):\n",
    "        x1=mx[i,j]\n",
    "        x2= my[i,j]\n",
    "        u=np.array([[ x1, x2]])\n",
    "        #forward\n",
    "        p=root.predict(u)\n",
    "        out[i,j]=np.argmax(p)\n",
    "fig = plt.figure(figsize=(8,5))\n",
    "plt.pcolor(mx,my,out,cmap=cm.RdBu,alpha=0.5, edgecolor='none')\n",
    "plt.colorbar()\n",
    "plt.plot( x[yt[:,1]==1,0], x[yt[:,1]==1,1], 'ob')\n",
    "plt.plot( x[yt[:,0]==1,0], x[yt[:,0]==1,1], 'or')"
   ]
  },
  {
   "cell_type": "code",
   "execution_count": null,
   "metadata": {},
   "outputs": [],
   "source": []
  },
  {
   "cell_type": "code",
   "execution_count": null,
   "metadata": {},
   "outputs": [],
   "source": []
  }
 ],
 "metadata": {
  "kernelspec": {
   "display_name": "Python 3",
   "language": "python",
   "name": "python3"
  },
  "language_info": {
   "codemirror_mode": {
    "name": "ipython",
    "version": 3
   },
   "file_extension": ".py",
   "mimetype": "text/x-python",
   "name": "python",
   "nbconvert_exporter": "python",
   "pygments_lexer": "ipython3",
   "version": "3.6.10"
  }
 },
 "nbformat": 4,
 "nbformat_minor": 4
}
